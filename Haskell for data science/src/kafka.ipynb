{
 "cells": [
  {
   "cell_type": "code",
   "execution_count": 3,
   "metadata": {
    "collapsed": false
   },
   "outputs": [],
   "source": [
    "import Haskakafka\n",
    "import qualified Data.ByteString.Char8 as C8"
   ]
  },
  {
   "cell_type": "code",
   "execution_count": 7,
   "metadata": {
    "collapsed": false
   },
   "outputs": [
    {
     "data": {
      "text/plain": [
       "\"[]\""
      ]
     },
     "metadata": {},
     "output_type": "display_data"
    }
   ],
   "source": [
    "producer message = do\n",
    "    let \n",
    "        kafkaConfig = [(\"socket.timeout.ms\", \"50000\")]\n",
    "        topicConfig = [(\"request.timeout.ms\", \"50000\")]\n",
    "        partition   = 0\n",
    "        broker      = \"10.77.1.2:9092\"\n",
    "        topic       = \"test\"\n",
    "\n",
    "        \n",
    "    withKafkaProducer kafkaConfig topicConfig broker topic \n",
    "        $ \\kafka topic -> \n",
    "            -- produceMessage topic (KafkaSpecifiedPartition partition) kafkaMessage\n",
    "            -- produceKeyedMessage topic keyMessage\n",
    "            produceMessageBatch topic KafkaUnassignedPartition messages \n",
    "            where\n",
    "                kafkaMessage = KafkaProduceMessage $ C8.pack message\n",
    "                keyMessage = KafkaProduceKeyedMessage (C8.pack \"Key\") (C8.pack message)\n",
    "                messages  = replicate 1 kafkaMessage\n",
    "\n",
    "t = producer  \"def\"\n",
    "t >>= \\x -> print $ show x"
   ]
  },
  {
   "cell_type": "code",
   "execution_count": 21,
   "metadata": {
    "collapsed": false
   },
   "outputs": [
    {
     "data": {
      "text/plain": [
       "[\"14:new stuff!\",\"15:abc\",\"16:def\",\"17:def\",\"18:message\",\"19:def\",\"20:message\",\"21:message\",\"22:message\",\"23:message\",\"24:message1\"]"
      ]
     },
     "metadata": {},
     "output_type": "display_data"
    }
   ],
   "source": [
    "consumer = do\n",
    "    let \n",
    "        kafkaConfig = [(\"socket.timeout.ms\", \"50000\")]\n",
    "        topicConfig = [(\"request.timeout.ms\", \"50000\")]\n",
    "        partition   = 0\n",
    "        broker      = \"10.77.1.2:9092\"\n",
    "        topic       = \"test\"\n",
    "        offset      = 14\n",
    "        timeoutMs   = 1000\n",
    "        maxMessages = 100\n",
    "        \n",
    "    withKafkaConsumer kafkaConfig topicConfig \n",
    "        broker topic partition (KafkaOffset offset) -- KafkaOffsetBeginning, KafkaOffsetEnd, KafkaOffset or KafkaOffsetStored)   \n",
    "        $ \\kafka topic -> batchGetter kafka topic partition timeoutMs maxMessages\n",
    "\n",
    "singleGetter kafka topic partition timeoutMs = do\n",
    "    me <- consumeMessage topic partition timeoutMs\n",
    "    putStrLn $ getMessage me\n",
    "\n",
    "batchGetter kafka topic partition timeoutMs maxMessages = do\n",
    "    mes <- consumeMessageBatch topic partition timeoutMs maxMessages\n",
    "    case mes of\n",
    "      (Left err)      -> putStrLn $ \"Something went wrong in batch consume! \" ++ show err\n",
    "      (Right events)  -> putStrLn $ show $ [prepareMessage event | event <- init events]\n",
    "\n",
    "\n",
    "getMessage :: Show l => (Either l KafkaMessage) -> String\n",
    "getMessage (Left err)    =  \"Something went wrong! \" ++ show err\n",
    "getMessage (Right event) =  prepareMessage event\n",
    "\n",
    "\n",
    "prepareMessage :: KafkaMessage -> String\n",
    "prepareMessage event = offset ++ \":\" ++ payload\n",
    "    where\n",
    "        offset  = show $ messageOffset event\n",
    "        payload = C8.unpack $ messagePayload event\n",
    "\n",
    "\n",
    "consumer"
   ]
  },
  {
   "cell_type": "code",
   "execution_count": null,
   "metadata": {
    "collapsed": true
   },
   "outputs": [],
   "source": []
  }
 ],
 "metadata": {
  "kernelspec": {
   "display_name": "Haskell",
   "language": "haskell",
   "name": "haskell"
  },
  "language_info": {
   "name": "haskell",
   "version": "7.8.3"
  }
 },
 "nbformat": 4,
 "nbformat_minor": 0
}
