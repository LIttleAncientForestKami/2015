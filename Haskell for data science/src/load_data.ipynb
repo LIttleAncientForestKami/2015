{
 "cells": [
  {
   "cell_type": "code",
   "execution_count": 1,
   "metadata": {
    "collapsed": false
   },
   "outputs": [
    {
     "data": {
      "text/plain": [
       "[\"1 aaaaa aa@qqq.com\",\"2 bbbbb bb@qqq.com\",\"3 ccccc cc@qqq.com\"]"
      ]
     },
     "metadata": {},
     "output_type": "display_data"
    }
   ],
   "source": [
    "import Data.List.Split (splitOn)\n",
    "\n",
    "main = do\n",
    "    input <- readFile \"data/input.txt\"\n",
    "    print $ filter allowQQQ $ lines input\n",
    "\n",
    "\n",
    "allowQQQ :: String -> Bool\n",
    "allowQQQ line = (getDomain line) == \"qqq.com\"\n",
    "    where getDomain = last . splitOn \"@\" . last . splitOn \" \"\n",
    "\n",
    "main"
   ]
  },
  {
   "cell_type": "code",
   "execution_count": 2,
   "metadata": {
    "collapsed": false
   },
   "outputs": [
    {
     "data": {
      "text/plain": [
       "\"Lois Williams\" has a email: \"lois.williams50@example.com\""
      ]
     },
     "metadata": {},
     "output_type": "display_data"
    }
   ],
   "source": [
    "{-# LANGUAGE OverloadedStrings #-}\n",
    "{-# LANGUAGE DeriveGeneric #-}\n",
    "\n",
    "import Data.Aeson\n",
    "import Control.Applicative\n",
    "import qualified Data.ByteString.Lazy as B\n",
    "import GHC.Generics\n",
    "\n",
    "data Person = Person {   name :: String\n",
    "                       , email :: String\n",
    "                       , created_at :: String\n",
    "                       , is_deleted :: Maybe Int\n",
    "                       } deriving Generic\n",
    "\n",
    "instance FromJSON Person\n",
    "\n",
    "main :: IO ()\n",
    "main = do\n",
    "  input <- B.readFile \"data/input.json\"\n",
    "  let mm = decode input :: Maybe Person\n",
    "  case mm of\n",
    "    Nothing -> print \"error parsing JSON\"\n",
    "    Just m -> (putStrLn . printPerson) m\n",
    "\n",
    "printPerson m = (show.name) m ++\" has a email: \"++ (show.email) m\n",
    "\n",
    "main"
   ]
  },
  {
   "cell_type": "code",
   "execution_count": 3,
   "metadata": {
    "collapsed": false
   },
   "outputs": [
    {
     "data": {
      "text/plain": [
       "[[\"Lois Williams\",\"lois.williams50@example.com\",\"2015-02-01T10:23:45.964Z\",\"1\"],[\"Russell Martin\",\"russell.martin@example.com\",\"2015-02-01T10:23:45.964Z\",\"1\"],[\"Bruce Shaw\",\"bruce.shaw@example.com\",\"2015-02-01T10:23:45.964Z\",\"1\"]]"
      ]
     },
     "metadata": {},
     "output_type": "display_data"
    }
   ],
   "source": [
    "import Text.CSV\n",
    "\n",
    "main :: IO ()\n",
    "main = do\n",
    "  let fileName = \"data/input.csv\"\n",
    "  input <- readFile fileName\n",
    "  let csv = parseCSV fileName input\n",
    "  either handleError doWork csv\n",
    "\n",
    "handleError csv = putStrLn \"not a CSV\"\n",
    "doWork csv = print $ filter (\\row -> last row == \"1\") $ rows csv\n",
    "\n",
    "rows :: [[a]] -> [[a]]\n",
    "rows csv = filter (\\x -> length x == length (head csv)) $ tail csv\n",
    "\n",
    "main"
   ]
  },
  {
   "cell_type": "code",
   "execution_count": 7,
   "metadata": {
    "collapsed": false
   },
   "outputs": [
    {
     "data": {
      "text/plain": []
     },
     "metadata": {},
     "output_type": "display_data"
    }
   ],
   "source": [
    "{-# LANGUAGE OverloadedStrings #-}\n",
    "\n",
    "import qualified Aws\n",
    "import qualified Aws.S3 as S3\n",
    "import           Data.Conduit (($$+-))\n",
    "import           Data.Conduit.Binary (sinkFile)\n",
    "import           Network.HTTP.Conduit (withManager, responseBody)\n",
    "\n",
    "main :: IO ()\n",
    "main = do\n",
    "  cfg <- Aws.baseConfiguration\n",
    "  let s3cfg = Aws.defServiceConfig :: S3.S3Configuration Aws.NormalQuery\n",
    "\n",
    "  withManager $ \\mgr -> do\n",
    "    S3.GetObjectResponse { S3.gorResponse = rsp } <-\n",
    "      Aws.pureAws cfg s3cfg mgr $\n",
    "        S3.getObject \"haskell-aws\" \"cloud-remote.pdf\"\n",
    "\n",
    "    responseBody rsp $$+- sinkFile \"cloud-remote.pdf\"\n",
    "    \n",
    "    \n",
    "main"
   ]
  },
  {
   "cell_type": "code",
   "execution_count": null,
   "metadata": {
    "collapsed": false
   },
   "outputs": [],
   "source": []
  },
  {
   "cell_type": "code",
   "execution_count": null,
   "metadata": {
    "collapsed": true
   },
   "outputs": [],
   "source": []
  }
 ],
 "metadata": {
  "kernelspec": {
   "display_name": "Haskell",
   "language": "haskell",
   "name": "haskell"
  },
  "language_info": {
   "name": "haskell",
   "version": "7.8.3"
  }
 },
 "nbformat": 4,
 "nbformat_minor": 0
}
