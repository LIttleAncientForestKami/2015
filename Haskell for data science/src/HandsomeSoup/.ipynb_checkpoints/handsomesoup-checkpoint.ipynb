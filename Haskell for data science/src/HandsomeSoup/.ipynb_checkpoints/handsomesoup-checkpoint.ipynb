{
 "cells": [
  {
   "cell_type": "code",
   "execution_count": 17,
   "metadata": {
    "collapsed": false
   },
   "outputs": [],
   "source": [
    "import Text.XML.HXT.Core\n",
    "import Text.HandsomeSoup\n",
    "html <- readFile \"test.html\""
   ]
  },
  {
   "cell_type": "code",
   "execution_count": 2,
   "metadata": {
    "collapsed": false
   },
   "outputs": [
    {
     "data": {
      "text/plain": []
     },
     "metadata": {},
     "output_type": "display_data"
    }
   ],
   "source": [
    "let doc = readString [withParseHTML yes, withWarnings no] html"
   ]
  },
  {
   "cell_type": "code",
   "execution_count": 18,
   "metadata": {
    "collapsed": false
   },
   "outputs": [],
   "source": [
    "contents <- runX doc\n",
    "contents"
   ]
  },
  {
   "cell_type": "code",
   "execution_count": 19,
   "metadata": {
    "collapsed": false
   },
   "outputs": [],
   "source": [
    "contents <- runX $ doc >>> css \"a\"\n",
    "contents"
   ]
  },
  {
   "cell_type": "code",
   "execution_count": 20,
   "metadata": {
    "collapsed": false
   },
   "outputs": [],
   "source": [
    "contents <- runX $ doc >>> css \"a#link1\"\n",
    "contents"
   ]
  },
  {
   "cell_type": "code",
   "execution_count": 21,
   "metadata": {
    "collapsed": false
   },
   "outputs": [],
   "source": [
    "runX $ doc >>> css \"a\" >>> getAttrValue \"href\""
   ]
  },
  {
   "cell_type": "code",
   "execution_count": 22,
   "metadata": {
    "collapsed": false
   },
   "outputs": [],
   "source": [
    "runX $ doc //> hasAttr \"id\" >>> (getElemName &&& getAttrValue \"id\" &&& getAttrValue \"class\" )"
   ]
  },
  {
   "cell_type": "code",
   "execution_count": 23,
   "metadata": {
    "collapsed": false
   },
   "outputs": [],
   "source": [
    "import Text.XML.HXT.Core\n",
    "import Network.HTTP\n",
    "import Text.HandsomeSoup\n",
    "\n",
    "url = \"http://www.datatau.com\"\n",
    "html <- simpleHTTP (getRequest url) >>= getResponseBody\n",
    "\n",
    "let doc = readString [withParseHTML yes, withWarnings no] html\n",
    "runX $ doc >>> css \"td.title a\" ! \"href\""
   ]
  },
  {
   "cell_type": "code",
   "execution_count": 24,
   "metadata": {
    "collapsed": false
   },
   "outputs": [],
   "source": [
    "import Text.HandsomeSoup\n",
    "import Text.XML.HXT.Core\n",
    "\n",
    "main = runX $ fromUrl \"http://www.datatau.com\" >>> css \"td.title a\" !\"href\"\n",
    "    \n",
    "main"
   ]
  },
  {
   "cell_type": "code",
   "execution_count": 25,
   "metadata": {
    "collapsed": false
   },
   "outputs": [],
   "source": [
    "import Text.HandsomeSoup\n",
    "import Text.XML.HXT.Core\n",
    "\n",
    "\n",
    "parsePage :: String -> IO [String]\n",
    "parsePage url = do\n",
    "    runX $ fromUrl url >>> css \"div\"  /> multi getText\n",
    "\n",
    "\n",
    "punctuations = ['!', '\"', '#', '$', '%', '(', ')', '.', ',', '?']\n",
    "removePunctuation = filter (`notElem` punctuations)\n",
    "\n",
    "specialSymbols = ['/', '-']\n",
    "replaceSpecialSymbols = map $ (\\c -> if c `elem` specialSymbols then ' ' else c)\n",
    "\n",
    "clean texts = filter (not.null) $ map clean' texts\n",
    "    where clean' = removePunctuation.replaceSpecialSymbols.unwords.words\n",
    "    \n",
    "getTextFromUrl url = do\n",
    "    doc <- parsePage url\n",
    "    return $ clean doc\n",
    "\n",
    "getTextFromUrl \"http://vova.me\" \n"
   ]
  },
  {
   "cell_type": "code",
   "execution_count": null,
   "metadata": {
    "collapsed": true
   },
   "outputs": [],
   "source": []
  }
 ],
 "metadata": {
  "kernelspec": {
   "display_name": "Haskell",
   "language": "haskell",
   "name": "haskell"
  }
 },
 "nbformat": 4,
 "nbformat_minor": 0
}
