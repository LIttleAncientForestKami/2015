{
 "cells": [
  {
   "cell_type": "code",
   "execution_count": 50,
   "metadata": {
    "collapsed": false
   },
   "outputs": [],
   "source": [
    "import Text.XML.HXT.Core\n",
    "import Text.HandsomeSoup\n",
    "html <- readFile \"test.html\""
   ]
  },
  {
   "cell_type": "code",
   "execution_count": 51,
   "metadata": {
    "collapsed": false
   },
   "outputs": [],
   "source": [
    "let doc = readString [withParseHTML yes, withWarnings no] html"
   ]
  },
  {
   "cell_type": "code",
   "execution_count": 5,
   "metadata": {
    "collapsed": false
   },
   "outputs": [],
   "source": [
    "contents <- runX doc\n",
    "contents"
   ]
  },
  {
   "cell_type": "code",
   "execution_count": 6,
   "metadata": {
    "collapsed": false
   },
   "outputs": [],
   "source": [
    "contents <- runX $ doc >>> css \"a\"\n",
    "contents"
   ]
  },
  {
   "cell_type": "code",
   "execution_count": 7,
   "metadata": {
    "collapsed": false
   },
   "outputs": [],
   "source": [
    "contents <- runX $ doc >>> css \"a#link1\"\n",
    "contents"
   ]
  },
  {
   "cell_type": "code",
   "execution_count": 8,
   "metadata": {
    "collapsed": false
   },
   "outputs": [],
   "source": [
    "runX $ doc >>> css \"a\" >>> getAttrValue \"href\""
   ]
  },
  {
   "cell_type": "code",
   "execution_count": 27,
   "metadata": {
    "collapsed": false
   },
   "outputs": [
    {
     "data": {
      "text/plain": [
       "[(\"a\",(\"link1\",\"a\")),(\"a\",(\"link2\",\"a\")),(\"a\",(\"link3\",\"b\"))]"
      ]
     },
     "metadata": {},
     "output_type": "display_data"
    }
   ],
   "source": [
    "runX $ doc //> hasAttr \"id\" >>> (getElemName &&& getAttrValue \"id\" &&& getAttrValue \"class\" )"
   ]
  },
  {
   "cell_type": "code",
   "execution_count": 9,
   "metadata": {
    "collapsed": false
   },
   "outputs": [],
   "source": [
    "import Text.XML.HXT.Core\n",
    "import Network.HTTP\n",
    "import Text.HandsomeSoup\n",
    "\n",
    "url = \"http://www.datatau.com\"\n",
    "html <- simpleHTTP (getRequest url) >>= getResponseBody\n",
    "\n",
    "let doc = readString [withParseHTML yes, withWarnings no] html\n",
    "runX $ doc >>> css \"td.title a\" ! \"href\""
   ]
  },
  {
   "cell_type": "code",
   "execution_count": 13,
   "metadata": {
    "collapsed": false
   },
   "outputs": [
    {
     "data": {
      "text/plain": [
       "[\"https://medium.com/@KevinSchmidtBiz/data-engineer-vs-data-scientist-vs-business-analyst-b68d201364bc\",\"https://www.coursera.org/learn/recommender-systems/\",\"http://blog.treasuredata.com/blog/2015/03/20/presto-versus-hive/\",\"http://www.macwright.org/2015/03/23/geojson-second-bite.html\",\"http://work.thaslwanter.at/Stats/html/#bayesian-statistics\",\"https://www.kickstarter.com/projects/jeffheaton/artificial-intelligence-for-humans-vol-3-deep-lear\",\"http://www.sqlstream.com/blog/2015/03/5-reasons-why-spark-streamings-batch-processing-of-data-streams-is-not-stream-processing/\",\"http://blog.sense.io/introducing-sense-a-platform-for-data-science/\",\"http://influencegame.io/\",\"http://technology.stitchfix.com/blog/2015/03/17/grammar-of-data-science/\",\"http://blog.modeanalytics.com/finding-user-sessions-sql/\",\"http://simplystatistics.org/2015/03/17/data-science-done-well-looks-easy-and-that-is-a-big-problem-for-data-scientists/\",\"http://twiecki.github.io/bayesian_risk_perf_v3.slides.html\",\"http://fivethirtyeight.com/datalab/dj-patil-white-house-chief-data-scientist-interview/\",\"http://dataorigami.net/blogs/napkin-folding/19055451-percentile-and-quantile-estimation-of-big-data-the-t-digest\",\"http://devblogs.nvidia.com/parallelforall/digits-deep-learning-gpu-training-system\",\"https://databricks.com/blog/2015/03/13/announcing-spark-1-3.html\",\"http://www.startup.ml/blog/julia\",\"https://github.com/deeplearningparis/dl-machine/\",\"http://web.mit.edu/bletham/www/winter2015.html\",\"http://www.thetalkingmachines.com\",\"http://sebastianraschka.com/Articles/2015_singlelayer_neurons.html\",\"http://riccardoscalco.github.io/textures/\",\"http://radar.oreilly.com/2015/03/lets-build-open-source-tensor-libraries-for-data-science.html\",\"http://fastml.com/what-you-wanted-to-know-about-ai/\",\"http://technology.stitchfix.com/blog/2015/03/11/word-is-worth-a-thousand-vectors/\",\"https://www.youtube.com/watch?v=vxeLcoELaP4\",\"http://www.kdnuggets.com/2015/03/machine-learning-data-science-common-mistakes.html\",\"http://thinktostart.com/analyze-linkedin-with-r/\",\"https://github.com/alexandrebarachant/bci-challenge-ner-2015\",\"/x?fnid=CgIMHDdSEY\"]"
      ]
     },
     "metadata": {},
     "output_type": "display_data"
    }
   ],
   "source": [
    "import Text.HandsomeSoup\n",
    "import Text.XML.HXT.Core\n",
    "\n",
    "main = runX $ fromUrl \"http://www.datatau.com\" >>> css \"td.title a\" !\"href\"\n",
    "    \n",
    "main"
   ]
  },
  {
   "cell_type": "code",
   "execution_count": null,
   "metadata": {
    "collapsed": true
   },
   "outputs": [],
   "source": []
  }
 ],
 "metadata": {
  "kernelspec": {
   "display_name": "Haskell",
   "language": "haskell",
   "name": "haskell"
  },
  "language_info": {
   "name": "haskell",
   "version": "7.8.3"
  }
 },
 "nbformat": 4,
 "nbformat_minor": 0
}
