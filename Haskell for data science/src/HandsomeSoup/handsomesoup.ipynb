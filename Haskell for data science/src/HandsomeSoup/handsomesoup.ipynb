{
 "cells": [
  {
   "cell_type": "code",
   "execution_count": 50,
   "metadata": {
    "collapsed": false
   },
   "outputs": [],
   "source": [
    "import Text.XML.HXT.Core\n",
    "import Text.HandsomeSoup\n",
    "html <- readFile \"test.html\""
   ]
  },
  {
   "cell_type": "code",
   "execution_count": 51,
   "metadata": {
    "collapsed": false
   },
   "outputs": [],
   "source": [
    "let doc = readString [withParseHTML yes, withWarnings no] html"
   ]
  },
  {
   "cell_type": "code",
   "execution_count": 5,
   "metadata": {
    "collapsed": false
   },
   "outputs": [],
   "source": [
    "contents <- runX doc\n",
    "contents"
   ]
  },
  {
   "cell_type": "code",
   "execution_count": 6,
   "metadata": {
    "collapsed": false
   },
   "outputs": [],
   "source": [
    "contents <- runX $ doc >>> css \"a\"\n",
    "contents"
   ]
  },
  {
   "cell_type": "code",
   "execution_count": 7,
   "metadata": {
    "collapsed": false
   },
   "outputs": [],
   "source": [
    "contents <- runX $ doc >>> css \"a#link1\"\n",
    "contents"
   ]
  },
  {
   "cell_type": "code",
   "execution_count": 8,
   "metadata": {
    "collapsed": false
   },
   "outputs": [],
   "source": [
    "runX $ doc >>> css \"a\" >>> getAttrValue \"href\""
   ]
  },
  {
   "cell_type": "code",
   "execution_count": 27,
   "metadata": {
    "collapsed": false
   },
   "outputs": [
    {
     "data": {
      "text/plain": [
       "[(\"a\",(\"link1\",\"a\")),(\"a\",(\"link2\",\"a\")),(\"a\",(\"link3\",\"b\"))]"
      ]
     },
     "metadata": {},
     "output_type": "display_data"
    }
   ],
   "source": [
    "runX $ doc //> hasAttr \"id\" >>> (getElemName &&& getAttrValue \"id\" &&& getAttrValue \"class\" )"
   ]
  },
  {
   "cell_type": "code",
   "execution_count": 9,
   "metadata": {
    "collapsed": false
   },
   "outputs": [],
   "source": [
    "import Text.XML.HXT.Core\n",
    "import Network.HTTP\n",
    "import Text.HandsomeSoup\n",
    "\n",
    "url = \"http://www.datatau.com\"\n",
    "html <- simpleHTTP (getRequest url) >>= getResponseBody\n",
    "\n",
    "let doc = readString [withParseHTML yes, withWarnings no] html\n",
    "runX $ doc >>> css \"td.title a\" ! \"href\""
   ]
  },
  {
   "cell_type": "code",
   "execution_count": 12,
   "metadata": {
    "collapsed": false
   },
   "outputs": [
    {
     "data": {
      "text/plain": [
       "[\"https://medium.com/@KevinSchmidtBiz/data-engineer-vs-data-scientist-vs-business-analyst-b68d201364bc\",\"https://www.coursera.org/learn/recommender-systems/\",\"http://work.thaslwanter.at/Stats/html/#bayesian-statistics\",\"http://www.macwright.org/2015/03/23/geojson-second-bite.html\",\"https://www.kickstarter.com/projects/jeffheaton/artificial-intelligence-for-humans-vol-3-deep-lear\",\"http://blog.treasuredata.com/blog/2015/03/20/presto-versus-hive/\",\"http://www.sqlstream.com/blog/2015/03/5-reasons-why-spark-streamings-batch-processing-of-data-streams-is-not-stream-processing/\",\"http://blog.sense.io/introducing-sense-a-platform-for-data-science/\",\"http://influencegame.io/\",\"http://technology.stitchfix.com/blog/2015/03/17/grammar-of-data-science/\",\"http://blog.modeanalytics.com/finding-user-sessions-sql/\",\"http://simplystatistics.org/2015/03/17/data-science-done-well-looks-easy-and-that-is-a-big-problem-for-data-scientists/\",\"http://twiecki.github.io/bayesian_risk_perf_v3.slides.html\",\"http://fivethirtyeight.com/datalab/dj-patil-white-house-chief-data-scientist-interview/\",\"http://dataorigami.net/blogs/napkin-folding/19055451-percentile-and-quantile-estimation-of-big-data-the-t-digest\",\"https://databricks.com/blog/2015/03/13/announcing-spark-1-3.html\",\"http://devblogs.nvidia.com/parallelforall/digits-deep-learning-gpu-training-system\",\"http://www.startup.ml/blog/julia\",\"http://www.thetalkingmachines.com\",\"http://web.mit.edu/bletham/www/winter2015.html\",\"https://github.com/deeplearningparis/dl-machine/\",\"http://sebastianraschka.com/Articles/2015_singlelayer_neurons.html\",\"http://technology.stitchfix.com/blog/2015/03/11/word-is-worth-a-thousand-vectors/\",\"http://riccardoscalco.github.io/textures/\",\"http://radar.oreilly.com/2015/03/lets-build-open-source-tensor-libraries-for-data-science.html\",\"http://fastml.com/what-you-wanted-to-know-about-ai/\",\"https://www.youtube.com/watch?v=vxeLcoELaP4\",\"https://github.com/alexandrebarachant/bci-challenge-ner-2015\",\"http://www.kdnuggets.com/2015/03/machine-learning-data-science-common-mistakes.html\",\"http://techblog.netflix.com/2015/03/can-spark-streaming-survive-chaos-monkey.html\",\"/x?fnid=kFZhArSBv0\"]"
      ]
     },
     "metadata": {},
     "output_type": "display_data"
    }
   ],
   "source": [
    "import Text.HandsomeSoup\n",
    "import Text.XML.HXT.Core\n",
    "\n",
    "main = runX $ fromUrl \"http://www.datatau.com\" >>> css \"td.title a\" !\"href\"\n",
    "    \n",
    "main"
   ]
  },
  {
   "cell_type": "code",
   "execution_count": 128,
   "metadata": {
    "collapsed": false
   },
   "outputs": [
    {
     "data": {
      "text/plain": [
       "[\"Hi I'm Vova :\",\"I like challenges\",\"I like to think\",\"I love life\"]"
      ]
     },
     "metadata": {},
     "output_type": "display_data"
    }
   ],
   "source": [
    "import Text.HandsomeSoup\n",
    "import Text.XML.HXT.Core\n",
    "\n",
    "doS url = do\n",
    "    doc <- parsePage url\n",
    "    return $ clean doc\n",
    "\n",
    "doS \"http://vova.me\"\n",
    "\n",
    "\n",
    "parsePage :: String -> IO [String]\n",
    "parsePage url = do\n",
    "    runX $ fromUrl url >>> css \"div\"  /> multi getText\n",
    "\n",
    "\n",
    "punctuations = ['!', '\"', '#', '$', '%', '(', ')', '.', ',', '?']\n",
    "removePunctuation = filter (`notElem` punctuations)\n",
    "\n",
    "specialSymbols = ['/', '-']\n",
    "replaceSpecialSymbols = map $ (\\c -> if c `elem` specialSymbols then ' ' else c)\n",
    "\n",
    "clean texts = filter (not.null) $ map clean' texts\n",
    "    where clean' = removePunctuation.replaceSpecialSymbols.unwords.words\n",
    "    \n",
    "    \n"
   ]
  },
  {
   "cell_type": "code",
   "execution_count": null,
   "metadata": {
    "collapsed": true
   },
   "outputs": [],
   "source": [
    "\n",
    "url = \n",
    "--body <- runX $ fromUrl url >>> css \"div\"  /> multi getText\n",
    "\n"
   ]
  }
 ],
 "metadata": {
  "kernelspec": {
   "display_name": "Haskell",
   "language": "haskell",
   "name": "haskell"
  },
  "language_info": {
   "name": "haskell",
   "version": "7.8.3"
  }
 },
 "nbformat": 4,
 "nbformat_minor": 0
}
