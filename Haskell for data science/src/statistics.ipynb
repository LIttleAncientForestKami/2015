{
 "cells": [
  {
   "cell_type": "code",
   "execution_count": 9,
   "metadata": {
    "collapsed": false
   },
   "outputs": [],
   "source": [
    "import Statistics.Sample as S\n",
    "\n",
    "import qualified Data.Vector.Unboxed as U\n",
    "import Control.Monad.ST (runST)\n",
    "import System.Random.MWC"
   ]
  },
  {
   "cell_type": "code",
   "execution_count": 4,
   "metadata": {
    "collapsed": false
   },
   "outputs": [],
   "source": [
    "-- Test sample\n",
    "sample :: U.Vector Double\n",
    "sample = runST $ flip uniformVector 10000 =<< create\n",
    "\n",
    "-- Weighted test sample\n",
    "sampleW :: U.Vector (Double,Double)\n",
    "sampleW = U.zip sample (U.reverse sample)"
   ]
  },
  {
   "cell_type": "code",
   "execution_count": 10,
   "metadata": {
    "collapsed": false
   },
   "outputs": [],
   "source": [
    "metrics = [\n",
    "    (\"mean\",            S.mean), \n",
    "    (\"harmonicMean\",    S.harmonicMean),\n",
    "    (\"geometricMean\",   S.geometricMean), \n",
    "    \n",
    "    (\"variance\",        S.variance),\n",
    "    (\"varianceUnbiased\",S.varianceUnbiased),\n",
    "\n",
    "    (\"stdDev\",   S.stdDev),\n",
    "    (\"kurtosis\", S.kurtosis)\n",
    "    ]\n",
    "\n",
    "map (\\(label, f) -> (label, f sample)) metrics"
   ]
  },
  {
   "cell_type": "code",
   "execution_count": 11,
   "metadata": {
    "collapsed": false
   },
   "outputs": [],
   "source": [
    "-- Distribution\n",
    "import Statistics.Distribution.Normal\n",
    "import qualified Statistics.Distribution as D\n",
    "import Statistics.Distribution.Poisson\n",
    "\n",
    "\n",
    "-- Probability density function\n",
    "D.density standard 0\n",
    "\n",
    "-- Cumulative distribution function\n",
    "D.cumulative standard  3\n",
    "D.cumulative (normalDistr 0 5) 15\n",
    "D.cumulative (poisson 1) 0\n",
    "\n",
    "-- Other\n",
    "D.quantile standard 0.9\n",
    "D.stdDev standard"
   ]
  },
  {
   "cell_type": "code",
   "execution_count": null,
   "metadata": {
    "collapsed": true
   },
   "outputs": [],
   "source": []
  }
 ],
 "metadata": {
  "kernelspec": {
   "display_name": "Haskell",
   "language": "haskell",
   "name": "haskell"
  }
 },
 "nbformat": 4,
 "nbformat_minor": 0
}
