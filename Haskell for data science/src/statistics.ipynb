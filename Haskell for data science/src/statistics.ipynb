{
 "cells": [
  {
   "cell_type": "code",
   "execution_count": 137,
   "metadata": {
    "collapsed": true
   },
   "outputs": [],
   "source": [
    "import Statistics.Sample as S\n",
    "import Statistics.Correlation  as C\n",
    "import Statistics.Regression as R\n",
    "\n",
    "import qualified Data.Vector.Unboxed as U\n",
    "import Control.Monad.ST (runST)\n",
    "import System.Random.MWC"
   ]
  },
  {
   "cell_type": "code",
   "execution_count": 138,
   "metadata": {
    "collapsed": false
   },
   "outputs": [],
   "source": [
    "-- Test sample\n",
    "sample :: U.Vector Double\n",
    "sample = runST $ flip uniformVector 10000 =<< create\n",
    "\n",
    "-- Weighted test sample\n",
    "sampleW :: U.Vector (Double,Double)\n",
    "sampleW = U.zip sample (U.reverse sample)"
   ]
  },
  {
   "cell_type": "code",
   "execution_count": 139,
   "metadata": {
    "collapsed": false
   },
   "outputs": [
    {
     "data": {
      "text/plain": [
       "[(\"mean\",0.5012731513981895),(\"harmonicMean\",0.10623512780368705),(\"geometricMean\",0.3686994883799101),(\"variance\",8.240449264781205e-2),(\"varianceUnbiased\",8.241273392120417e-2),(\"stdDev\",0.28707618138954716),(\"kurtosis\",-1.181642477949076)]"
      ]
     },
     "metadata": {},
     "output_type": "display_data"
    }
   ],
   "source": [
    "metrics = [\n",
    "    (\"mean\",            S.mean), \n",
    "    (\"harmonicMean\",    S.harmonicMean),\n",
    "    (\"geometricMean\",   S.geometricMean), \n",
    "    \n",
    "    (\"variance\",        S.variance),\n",
    "    (\"varianceUnbiased\",S.varianceUnbiased),\n",
    "\n",
    "    (\"stdDev\",   S.stdDev),\n",
    "    (\"kurtosis\", S.kurtosis)\n",
    "    ]\n",
    "\n",
    "map (\\(label, f) -> (label, f sample)) metrics"
   ]
  },
  {
   "cell_type": "code",
   "execution_count": 62,
   "metadata": {
    "collapsed": false
   },
   "outputs": [
    {
     "data": {
      "text/plain": [
       "7.910601150197646e-3"
      ]
     },
     "metadata": {},
     "output_type": "display_data"
    },
    {
     "data": {
      "text/plain": [
       "8.20443298604433e-3"
      ]
     },
     "metadata": {},
     "output_type": "display_data"
    }
   ],
   "source": [
    " -- Correlation\n",
    "pearson $ U.zip (U.reverse sample) sample\n",
    "spearman $ U.zip (U.reverse sample) sample"
   ]
  },
  {
   "cell_type": "code",
   "execution_count": 136,
   "metadata": {
    "collapsed": false
   },
   "outputs": [
    {
     "data": {
      "text/plain": [
       "0.39894228040143265"
      ]
     },
     "metadata": {},
     "output_type": "display_data"
    },
    {
     "data": {
      "text/plain": [
       "0.9986501019683699"
      ]
     },
     "metadata": {},
     "output_type": "display_data"
    },
    {
     "data": {
      "text/plain": [
       "0.9986501019683699"
      ]
     },
     "metadata": {},
     "output_type": "display_data"
    },
    {
     "data": {
      "text/plain": [
       "0.36787944117144233"
      ]
     },
     "metadata": {},
     "output_type": "display_data"
    },
    {
     "data": {
      "text/plain": [
       "1.2815515655446008"
      ]
     },
     "metadata": {},
     "output_type": "display_data"
    },
    {
     "data": {
      "text/plain": [
       "1.0"
      ]
     },
     "metadata": {},
     "output_type": "display_data"
    }
   ],
   "source": [
    "-- Distribution\n",
    "import Statistics.Distribution.Normal\n",
    "import qualified Statistics.Distribution as D\n",
    "import Statistics.Distribution.Poisson\n",
    "\n",
    "\n",
    "-- Probability density function\n",
    "D.density standard 0\n",
    "\n",
    "-- Cumulative distribution function\n",
    "D.cumulative standard  3\n",
    "D.cumulative (normalDistr 0 5) 15\n",
    "D.cumulative (poisson 1) 0\n",
    "\n",
    "-- Other\n",
    "D.quantile standard 0.9\n",
    "D.stdDev standard"
   ]
  },
  {
   "cell_type": "code",
   "execution_count": null,
   "metadata": {
    "collapsed": true
   },
   "outputs": [],
   "source": []
  }
 ],
 "metadata": {
  "kernelspec": {
   "display_name": "Haskell",
   "language": "haskell",
   "name": "haskell"
  },
  "language_info": {
   "name": "haskell",
   "version": "7.8.3"
  }
 },
 "nbformat": 4,
 "nbformat_minor": 0
}
