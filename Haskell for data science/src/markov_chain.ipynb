{
 "cells": [
  {
   "cell_type": "code",
   "execution_count": 6,
   "metadata": {
    "collapsed": false
   },
   "outputs": [
    {
     "data": {
      "text/plain": [
       "Generated character by character: \n",
       "\n",
       "The evaturn bring everice Ana Paciously skuling from to was\n",
       "fing, of rant of and sway.\n",
       "\n",
       "5. Whendent \n",
       "\n",
       "Generated word by word: \n",
       "\n",
       "The Project gratefully accepts contributions of money, though there was a brief word, showing that he would do so. He could hear all that she had to reply; the room scanned Princess Mary's heart beat so violently at this age, so dangerous to life, by the friends of the Russians, was trying to free his serfs--and that till the eggs mature, when by their Creator with certain small vessels but no me....\" And the cavalry, Colonel, but I don't wish to know which it has a fit, and there was a very large measure, attributed to eating this root. But"
      ]
     },
     "metadata": {},
     "output_type": "display_data"
    }
   ],
   "source": [
    "import Data.MarkovChain\n",
    "import System.Random (mkStdGen)\n",
    "\n",
    "-- Using a Markov chain\n",
    "main = do\n",
    "  rawText <- readFile \"data/big.txt\"\n",
    "  let g = mkStdGen 100\n",
    "  putStrLn \"Generated character by character: \\n\"\n",
    "  putStrLn $ take 100 $ run 3 rawText 0 g\n",
    "  putStrLn \"\\nGenerated word by word: \\n\"\n",
    "  putStrLn $ unwords $ take 100 $ run 2 (words rawText) 0 g\n",
    "\n",
    "\n",
    "main"
   ]
  },
  {
   "cell_type": "code",
   "execution_count": null,
   "metadata": {
    "collapsed": true
   },
   "outputs": [],
   "source": []
  }
 ],
 "metadata": {
  "kernelspec": {
   "display_name": "Haskell",
   "language": "haskell",
   "name": "haskell"
  }
 },
 "nbformat": 4,
 "nbformat_minor": 0
}
