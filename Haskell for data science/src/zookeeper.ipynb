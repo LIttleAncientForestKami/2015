{
 "cells": [
  {
   "cell_type": "code",
   "execution_count": 184,
   "metadata": {
    "collapsed": false
   },
   "outputs": [
    {
     "data": {
      "text/plain": [
       "\"[\\\"child\\\"]\""
      ]
     },
     "metadata": {},
     "output_type": "display_data"
    }
   ],
   "source": [
    "import qualified Database.Zookeeper as ZK\n",
    "import qualified Data.ByteString.Char8 as C8\n",
    "\n",
    "main = do\n",
    "    let quorumZk     = \"10.77.1.2:2181\"\n",
    "        timeoutInMs  = 5000\n",
    "        watcher      = Nothing\n",
    "        clientId     = Nothing\n",
    "        path         = \"/test1\"\n",
    "        pathChild    = \"/test1/child\"\n",
    "        \n",
    "    ZK.withZookeeper quorumZk timeoutInMs watcher clientId $ \\zh -> do\n",
    "        create zh path\n",
    "        exists zh path watcher\n",
    "        get zh path watcher \n",
    "        set zh path \"value756\"\n",
    "        get zh path watcher \n",
    "        create zh pathChild\n",
    "        getChildren zh path watcher\n",
    "\n",
    "\n",
    "create :: ZK.Zookeeper -> String -> IO String\n",
    "create zh path = do\n",
    "    node <- ZK.create zh path (Just $ C8.pack \"value\") ZK.OpenAclUnsafe []\n",
    "    case node of\n",
    "        Left ZK.NodeExistsError -> return \"a node already exists\"\n",
    "        Left e  -> error $ \"error: \" ++ show e\n",
    "        Right _ -> return \"a node has been created\"\n",
    "\n",
    "\n",
    "exists :: ZK.Zookeeper -> String -> Maybe ZK.Watcher -> IO String\n",
    "exists zh path watcher = do\n",
    "    node <- ZK.exists zh path Nothing\n",
    "    case node of\n",
    "        Left e -> error $ \"error: \" ++ show e\n",
    "        Right st -> return $ show st\n",
    "\n",
    "\n",
    "get :: ZK.Zookeeper -> String -> Maybe ZK.Watcher -> IO String\n",
    "get zh path watcher = do \n",
    "    node <- ZK.get zh path watcher\n",
    "    case node of\n",
    "        Left e  -> error $ \"error: \" ++ show e\n",
    "        Right (Just value, st) -> return $  \"value: \" ++ C8.unpack value ++ show st\n",
    "        Right (Nothing, st) -> return $ show st\n",
    "\n",
    "\n",
    "set :: ZK.Zookeeper -> String -> String -> IO String\n",
    "set zh path value = do\n",
    "    node <- ZK.set zh path (Just $ C8.pack value) Nothing\n",
    "    case node of\n",
    "        Left e    -> error $ \"error: \" ++ show e\n",
    "        Right res -> return $ show res\n",
    "\n",
    "getChildren zh path watcher = do\n",
    "    node <- ZK.getChildren zh path watcher\n",
    "    case node of\n",
    "        Left e    -> error $ \"error: \" ++ show e\n",
    "        Right res -> return $ show res \n",
    "\n",
    "main"
   ]
  },
  {
   "cell_type": "code",
   "execution_count": null,
   "metadata": {
    "collapsed": true
   },
   "outputs": [],
   "source": []
  }
 ],
 "metadata": {
  "kernelspec": {
   "display_name": "Haskell",
   "language": "haskell",
   "name": "haskell"
  },
  "language_info": {
   "name": "haskell",
   "version": "7.8.3"
  }
 },
 "nbformat": 4,
 "nbformat_minor": 0
}
