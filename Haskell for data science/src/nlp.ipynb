{
 "cells": [
  {
   "cell_type": "code",
   "execution_count": 12,
   "metadata": {
    "collapsed": false
   },
   "outputs": [
    {
     "data": {
      "text/plain": [
       "\"agre conflat relat formal depend\""
      ]
     },
     "metadata": {},
     "output_type": "display_data"
    }
   ],
   "source": [
    "import NLP.Stemmer\n",
    "\n",
    "sentence = \"agreed  conflate  relational formalize dependent\"\n",
    "unwords $ map (stem English) $ words sentence"
   ]
  },
  {
   "cell_type": "code",
   "execution_count": 3,
   "metadata": {
    "collapsed": false
   },
   "outputs": [
    {
     "data": {
      "text/plain": [
       "[\"hel\",\"ell\",\"llo\",\"lo \",\"o w\",\" wo\",\"wor\",\"orl\",\"rld\"]"
      ]
     },
     "metadata": {},
     "output_type": "display_data"
    }
   ],
   "source": [
    "-- Creating all n-grams of a list\n",
    "ngram :: Int -> [a] -> [[a]]\n",
    "ngram n xs \n",
    "  | n <= length xs = take n xs : ngram n (drop 1 xs)\n",
    "  | otherwise = []\n",
    "  \n",
    "ngram 3 \"hello world\""
   ]
  },
  {
   "cell_type": "code",
   "execution_count": 1,
   "metadata": {
    "collapsed": false
   },
   "outputs": [
    {
     "data": {
      "text/plain": [
       "0.9246279432210068"
      ]
     },
     "metadata": {},
     "output_type": "display_data"
    }
   ],
   "source": [
    "-- cosine distance (similarity)\n",
    "dot a b = sum $ zipWith (*) a b  \n",
    "eLen a = sqrt $ dot a a\n",
    "\n",
    "d1 = [3.5, 2, 0, 4.5, 5, 1.5, 2.5, 2]\n",
    "d2 = [3, 0, 0, 5, 4, 2.5, 3, 0]\n",
    "similarity = dot d1 d2 / (eLen d1 * eLen d2)\n",
    "print similarity"
   ]
  },
  {
   "cell_type": "code",
   "execution_count": null,
   "metadata": {
    "collapsed": true
   },
   "outputs": [],
   "source": []
  }
 ],
 "metadata": {
  "kernelspec": {
   "display_name": "Haskell",
   "language": "haskell",
   "name": "haskell"
  }
 },
 "nbformat": 4,
 "nbformat_minor": 0
}
