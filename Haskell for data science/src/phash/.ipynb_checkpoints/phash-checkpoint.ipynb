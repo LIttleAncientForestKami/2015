{
 "cells": [
  {
   "cell_type": "code",
   "execution_count": 143,
   "metadata": {
    "collapsed": false
   },
   "outputs": [
    {
     "data": {
      "text/plain": [
       "[(\"cat00.jpg\",\"cat01.jpg\",\"0\"),(\"cat00.jpg\",\"cat02.jpg\",\"4\"),(\"cat01.jpg\",\"cat02.jpg\",\"4\")]"
      ]
     },
     "metadata": {},
     "output_type": "display_data"
    }
   ],
   "source": [
    "import Data.PHash\n",
    "import Control.Monad (sequence)\n",
    "\n",
    "pairs :: (Ord a) => [a] -> [(a, a)]\n",
    "pairs list = [ (a, b) | a <- list, b <- list, a <= b, a /= b ]\n",
    "\n",
    "compareHash :: Maybe PHash -> Maybe PHash -> String\n",
    "compareHash (Just h1) (Just h2) =  show $ hammingDistance h1 h2\n",
    "compareHash _ _                 = \"Error, could not read images\"\n",
    "\n",
    "\n",
    "readImg :: (FilePath, FilePath) -> IO (String,String, String)\n",
    "readImg (x,y) = do\n",
    "    let prefix = \"img/\"\n",
    "    hash_one <- imageHash $ prefix ++ x\n",
    "    hash_two <- imageHash $ prefix ++ y\n",
    "    let diff =  compareHash hash_one hash_two \n",
    "    return (x,y, diff)\n",
    "    \n",
    "\n",
    "main = do\n",
    "    let images = [\"cat00.jpg\", \"cat01.jpg\", \"cat02.jpg\"]\n",
    "--     let images = [\"cat10.jpg\", \"cat11.jpg\", \"cat12.jpg\"]\n",
    "--     let images = [\"dog20.jpg\", \"dog21.jpg\", \"dog22.jpg\"]\n",
    "--     let images = [\"dog20.jpg\", \"cat00.jpg\", \"cat10.jpg\"]\n",
    "--     let images = [\"dog20.jpg\", \"dog_crop0.jpg\", \"dog_crop1.jpg\"]\n",
    "--     let images = [\"dog20.jpg\", \"dog_img0.jpg\", \"dog_img1.jpg\", \"dog_img2.jpg\"]\n",
    "--     let images = [\"black.jpg\",  \"blue.jpg\", \"green.jpg\", \"orange.jpg\", \"white.jpg\", \"yellow.jpg\"]\n",
    "    \n",
    "\n",
    "    sequence $ map readImg (pairs images)\n",
    "\n",
    "main"
   ]
  },
  {
   "cell_type": "code",
   "execution_count": null,
   "metadata": {
    "collapsed": false
   },
   "outputs": [],
   "source": []
  }
 ],
 "metadata": {
  "kernelspec": {
   "display_name": "Haskell",
   "language": "haskell",
   "name": "haskell"
  },
  "language_info": {
   "name": "haskell",
   "version": "7.8.3"
  }
 },
 "nbformat": 4,
 "nbformat_minor": 0
}
