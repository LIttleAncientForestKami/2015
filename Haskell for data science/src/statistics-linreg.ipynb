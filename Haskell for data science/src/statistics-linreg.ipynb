{
 "cells": [
  {
   "cell_type": "code",
   "execution_count": 5,
   "metadata": {
    "collapsed": false
   },
   "outputs": [
    {
     "data": {
      "text/plain": [
       "\"y = 0.425 x + 0.7850000000000001\""
      ]
     },
     "metadata": {},
     "output_type": "display_data"
    }
   ],
   "source": [
    "import Statistics.LinearRegression\n",
    "import qualified Data.Vector.Unboxed as U\n",
    "\n",
    "-- Computing a linear regression\n",
    "main = do\n",
    "  let xs = U.fromList [1.0, 2.0, 3.0, 4.0, 5.0] :: U.Vector Double\n",
    "  let ys = U.fromList [1.0, 2.0, 1.3, 3.75, 2.25] :: U.Vector Double\n",
    "  let (b, m) = linearRegression xs ys\n",
    "  print $ concat [\"y = \", show m, \" x + \", show b]\n",
    "    \n",
    "main"
   ]
  },
  {
   "cell_type": "code",
   "execution_count": null,
   "metadata": {
    "collapsed": true
   },
   "outputs": [],
   "source": []
  }
 ],
 "metadata": {
  "kernelspec": {
   "display_name": "Haskell",
   "language": "haskell",
   "name": "haskell"
  }
 },
 "nbformat": 4,
 "nbformat_minor": 0
}
